{
  "nbformat": 4,
  "nbformat_minor": 0,
  "metadata": {
    "colab": {
      "name": "Fundamentos de Redes Neurais.ipynb",
      "provenance": [],
      "collapsed_sections": [],
      "include_colab_link": true
    },
    "kernelspec": {
      "name": "python3",
      "display_name": "Python 3"
    }
  },
  "cells": [
    {
      "cell_type": "markdown",
      "metadata": {
        "id": "view-in-github",
        "colab_type": "text"
      },
      "source": [
        "<a href=\"https://colab.research.google.com/github/Nazarique/Perceptron_Adaline/blob/main/Fundamentos_de_Redes_Neurais.ipynb\" target=\"_parent\"><img src=\"https://colab.research.google.com/assets/colab-badge.svg\" alt=\"Open In Colab\"/></a>"
      ]
    },
    {
      "cell_type": "code",
      "metadata": {
        "id": "lWOnvT-7SFyo"
      },
      "source": [
        "import numpy as np\n",
        "class Perceptron:\n",
        "  ''' Objeto Perceptron, um único neurônio para realizar operações linearmente separáveis '''\n",
        "  __bias = -1\n",
        "  def __init__(self, features, interactions = 100,\n",
        "                learning_rate = 0.01):\n",
        "    '''  Método construtor da classe Perceptron, \n",
        "          Default - interações = 100 e    \n",
        "          função de ativação degrau.\n",
        "    '''\n",
        "    \n",
        "    self.learning_rate = learning_rate\n",
        "    self.weight = np.random.random_sample(features+1)\n",
        "    self.interactions = interactions\n",
        "    self.MSE = [1]\n",
        "    \n",
        "  def forward(self, x):\n",
        "    u = np.dot(x, self.weight)\n",
        "    return np.heaviside(u,0.)\n",
        "    \n",
        "  def train(self, xtrain, ytrain):\n",
        "    xtrain = np.insert(xtrain, 0,   \n",
        "                        Perceptron.__bias, axis=1)\n",
        "    self.interaction = 0\n",
        "    escape = False\n",
        "    error = np.zeros(ytrain.shape[0])\n",
        "    cont = 0\n",
        "    \n",
        "    while (escape == False): \n",
        "      escape = True\n",
        "      cont = 0\n",
        "      self.interaction += 1 \n",
        "      \n",
        "      for inputs, label in zip(xtrain, ytrain):\n",
        "          yPredict = self.forward(inputs)\n",
        "          error[cont] = (label - yPredict) \n",
        "          cont+=1\n",
        "          \n",
        "          if(yPredict!=label):\n",
        "              escape = False \n",
        "              self.weight = self.weight + (\n",
        "            self.learning_rate * (label - yPredict) * inputs)\n",
        "              \n",
        "      if self.interaction >= self.interactions: \n",
        "        escape = True\n",
        "      self.MSE.append(np.square(error).mean())\n",
        "    print('Quantidade de Interações: '+ str(\n",
        "                                self.interaction))\n",
        "    \n",
        "  def test(self, x, y):  \n",
        "    x = np.insert(x, 0, Perceptron.__bias, axis=1)\n",
        "    yPredict = self.forward(x)\n",
        "    #error = (y - yPredict) \n",
        "    #print('MSE: '+str(np.square(error).mean()))   \n",
        "    return yPredict"
      ],
      "execution_count": null,
      "outputs": []
    },
    {
      "cell_type": "markdown",
      "metadata": {
        "id": "T4J4k_du5Nxi"
      },
      "source": [
        ""
      ]
    },
    {
      "cell_type": "code",
      "metadata": {
        "id": "SknFswYxibS1"
      },
      "source": [
        "class Adaline(Perceptron):\n",
        "  \n",
        "  ''' Objeto Adaline, um único neurônio para realizar operações \n",
        "      linearmente separáveis, tem como herança a classe Perceptron\n",
        "  '''\n",
        "    \n",
        "  def __init__(self, features, interactions = 100,\n",
        "                learning_rate = 0.01, precision = 10e-6):\n",
        "    \n",
        "      super().__init__(features, interactions,\n",
        "                learning_rate)\n",
        "      self.precision = precision\n",
        "      \n",
        "  def forward(self, x):\n",
        "    u = np.dot(x, self.weight)\n",
        "    return u \n",
        "  \n",
        "  def train(self, xtrain, ytrain):\n",
        "    xtrain = np.insert(xtrain, 0, -1, axis=1)\n",
        "    self.interaction = 0\n",
        "    escape = False\n",
        "    error = np.zeros(ytrain.shape[0])\n",
        "    cont = 0\n",
        "    mse = 1\n",
        "    while (escape == False): \n",
        "      escape = True\n",
        "      cont = 0\n",
        "      self.interaction += 1 \n",
        "\n",
        "      for inputs, label in zip(xtrain, ytrain):\n",
        "        \n",
        "          yPredict = self.forward(inputs)\n",
        "          error[cont] = (label - yPredict) \n",
        "          cont+=1\n",
        "          self.weight = self.weight + (self.learning_rate * \n",
        "                                       (label - yPredict) * inputs)\n",
        "          \n",
        "      self.MSE.append(np.square(error).mean())\n",
        "      \n",
        "      if(np.absolute(self.MSE[-1] - mse) > self.precision):\n",
        "          mse = self.MSE[-1]\n",
        "          escape = False \n",
        "          \n",
        "      if self.interaction >= self.interactions: \n",
        "        escape = True\n",
        "      \n",
        "    print('Quantidade de Interações: '+ str(\n",
        "                                self.interaction))"
      ],
      "execution_count": null,
      "outputs": []
    },
    {
      "cell_type": "code",
      "metadata": {
        "id": "fHVCl4cLl5GU"
      },
      "source": [
        "import numpy as np\n",
        "\n",
        "def tanh(x):\n",
        "    ''' Função tangente hiperbólica '''\n",
        "    return np.tanh(x)\n",
        "\n",
        "def dtanh(x):\n",
        "    ''' Derivada da função tangente hiperbólica '''\n",
        "    return 1./(np.cosh(x)**2)\n",
        "\n",
        "\n",
        "class Elman:\n",
        "    ''' Elman network '''\n",
        "\n",
        "\n",
        "    def __init__(self, *args):\n",
        "        ''' Criando rnn usando *args, lista de argumentos com a quantidade de neurônios. \n",
        "            A rnn Elman envia seu fluxo de informação nas camadas de neurônios da seguinte forma: \n",
        "            1° entrada -> 2° escondida -> 3° contexto -> 4° escondida -> 5° saída.\n",
        "        '''\n",
        "\n",
        "        self.shape = args\n",
        "        n = len(args)\n",
        "\n",
        "        # Criando as camadas e os bias \n",
        "        self.layers = []\n",
        "        self.bias = []\n",
        "\n",
        "        # Input layer (+1 unit for bias\n",
        "        #              +size of first hidden layer)\n",
        "        self.layers.append(np.ones(self.shape[0]+1+self.shape[1]))\n",
        "        # Hidden layer(s) + output layer\n",
        "        for i in range(1,n):\n",
        "            self.layers.append(np.ones(self.shape[i]))\n",
        "            self.bias.append(np.ones(self.shape[i]))\n",
        "\n",
        "        # Criandos os pesos sinápticos (aleatóriamente entre -0.25 a +0.25)\n",
        "        self.weights = []\n",
        "        for i in range(n-1):\n",
        "            self.weights.append(np.zeros((self.layers[i].size,\n",
        "                                          self.layers[i+1].size)))\n",
        "\n",
        "        # dw Variável para armazenar o ultimo valor do peso sinaptico (for momentum)\n",
        "        self.dw = [0,]*len(self.weights) # Vetor de zeros do mesmo tamanho dos pesos\n",
        "\n",
        "        # Reset weights (Função para zerar os pesos sinápticos)\n",
        "        self.reset()\n",
        "\n",
        "    def reset(self):\n",
        "        ''' Reset weights '''\n",
        "\n",
        "        for i in range(len(self.weights)):\n",
        "            Z = np.random.random((self.layers[i].size,self.layers[i+1].size))\n",
        "            self.weights[i][...] = (2*Z-1)*0.25\n",
        "\n",
        "    def forward(self, data):\n",
        "        ''' Propaga os dados da camada de entrada para a camada de saída. '''\n",
        "\n",
        "        # Inserindo os dados na camada de entrada\n",
        "        self.layers[0][:self.shape[0]] = data\n",
        "        # Por ser uma rnn os dados também são colocados na camada de contexto\n",
        "        self.layers[0][self.shape[0]:-1] = self.layers[1]\n",
        "\n",
        "    \n",
        "        for i in range(1,len(self.shape)):\n",
        "\n",
        "            # Somatório vetorial entre os pesos sinápticos e os dados\n",
        "            soma = np.dot(self.layers[i-1],self.weights[i-1])\n",
        "            # Inserindo o bias e usando uma função de ativação\n",
        "            self.layers[i][...] = tanh(soma + self.bias[i-1])\n",
        "\n",
        "        # Return output\n",
        "        return self.layers[-1]\n",
        "\n",
        "\n",
        "    def backward(self, target, lrate=0.01, momentum=0.1):\n",
        "        ''' Backpropagation comum. '''\n",
        "\n",
        "        deltas = []\n",
        "\n",
        "        # Calcula o erro da saída da rede em comparação com o sinal de referência\n",
        "        error = target - self.layers[-1]\n",
        "        delta = error*dtanh(self.layers[-1])\n",
        "        deltas.append(delta)\n",
        "\n",
        "        # Atualizando os valores dos pesos sinápticos e do bias\n",
        "        for i in range(len(self.shape)-2,0,-1):\n",
        "            delta = np.dot(deltas[0],self.weights[i].T)*dtanh(self.layers[i])\n",
        "            deltas.insert(0,delta)\n",
        "            \n",
        "        # Update weights\n",
        "        for i in range(len(self.weights)):\n",
        "            layer = np.atleast_2d(self.layers[i])\n",
        "            delta = np.atleast_2d(deltas[i])\n",
        "            dw = np.dot(layer.T,delta)\n",
        "            self.weights[i] += lrate*dw + momentum*self.dw[i]\n",
        "            self.bias[i] += lrate*dw.mean(axis=0)\n",
        "            self.dw[i] = dw\n",
        "\n",
        "        # Return erro quadrático médio\n",
        "        return np.sqrt((error**2).sum()/len(error))"
      ],
      "execution_count": null,
      "outputs": []
    },
    {
      "cell_type": "code",
      "metadata": {
        "id": "e_fbSALwTPEy"
      },
      "source": [
        "#Dados\n",
        "x     = np.array([[0., 0.], [1., 0.], [0., 1.], [1., 1.]])\n",
        "\n",
        "y_AND = np.array([0., 0., 0., 1.]) #AND\n",
        "y_OR  = np.array([1., 0., 0., 1.]) #OR\n",
        "y_XOR = np.array([0., 1., 1., 0.]) #XOR\n"
      ],
      "execution_count": null,
      "outputs": []
    },
    {
      "cell_type": "code",
      "metadata": {
        "id": "12e6w5nVCK7W",
        "colab": {
          "base_uri": "https://localhost:8080/"
        },
        "outputId": "aa84938e-ce0b-4162-b39a-ffff3e28c6d8"
      },
      "source": [
        "#Perceptron \n",
        "Pmse = []\n",
        "Pinteracao = []\n",
        "predict = []\n",
        "for i in range(10):\n",
        "  print('\\nTeste: '+str(i))\n",
        "  p = Perceptron(2, interactions = 500)\n",
        "  p.train(x, y_AND)\n",
        "  Pinteracao.append(p.interaction)\n",
        "  Pmse.append(p.MSE)\n",
        "  #predict.append(p.test(x, 1))\n",
        "  "
      ],
      "execution_count": null,
      "outputs": [
        {
          "output_type": "stream",
          "text": [
            "\n",
            "Teste: 0\n",
            "Quantidade de Interações: 13\n",
            "\n",
            "Teste: 1\n",
            "Quantidade de Interações: 23\n",
            "\n",
            "Teste: 2\n",
            "Quantidade de Interações: 1\n",
            "\n",
            "Teste: 3\n",
            "Quantidade de Interações: 2\n",
            "\n",
            "Teste: 4\n",
            "Quantidade de Interações: 11\n",
            "\n",
            "Teste: 5\n",
            "Quantidade de Interações: 4\n",
            "\n",
            "Teste: 6\n",
            "Quantidade de Interações: 3\n",
            "\n",
            "Teste: 7\n",
            "Quantidade de Interações: 1\n",
            "\n",
            "Teste: 8\n",
            "Quantidade de Interações: 8\n",
            "\n",
            "Teste: 9\n",
            "Quantidade de Interações: 6\n"
          ],
          "name": "stdout"
        }
      ]
    },
    {
      "cell_type": "code",
      "metadata": {
        "id": "4tmmx2cxmrmy",
        "colab": {
          "base_uri": "https://localhost:8080/"
        },
        "outputId": "e92049df-f777-45dc-9f9a-49f492225dd6"
      },
      "source": [
        "#Adaline\n",
        "Amse = []                                       #salvando erro\n",
        "Ainteracao = []                                 #salvando interacao de cada rede\n",
        "predict = []\n",
        "for i in range(10):                             #to testando 10x\n",
        "  \n",
        "  print('\\nTeste: '+str(i))\n",
        "  a = Adaline(features = 2, interactions = 500) #criando uma adaline,  com caracteristicas, e qtdd max de interações ou epocas\n",
        "  a.train(x, y_AND)                             #treina o modelo\n",
        "  Ainteracao.append(a.interaction)              #salvando a interação de cada teste           \n",
        "  Amse.append(a.MSE)                 \n",
        "  #predict.append(a.test(x_test, 1))                             #realizando teste\n",
        "  "
      ],
      "execution_count": null,
      "outputs": [
        {
          "output_type": "stream",
          "text": [
            "\n",
            "Teste: 0\n",
            "Quantidade de Interações: 257\n",
            "\n",
            "Teste: 1\n",
            "Quantidade de Interações: 247\n",
            "\n",
            "Teste: 2\n",
            "Quantidade de Interações: 376\n",
            "\n",
            "Teste: 3\n",
            "Quantidade de Interações: 299\n",
            "\n",
            "Teste: 4\n",
            "Quantidade de Interações: 136\n",
            "\n",
            "Teste: 5\n",
            "Quantidade de Interações: 36\n",
            "\n",
            "Teste: 6\n",
            "Quantidade de Interações: 120\n",
            "\n",
            "Teste: 7\n",
            "Quantidade de Interações: 187\n",
            "\n",
            "Teste: 8\n",
            "Quantidade de Interações: 262\n",
            "\n",
            "Teste: 9\n",
            "Quantidade de Interações: 325\n"
          ],
          "name": "stdout"
        }
      ]
    },
    {
      "cell_type": "code",
      "metadata": {
        "id": "Aq-mrxrvRGi5",
        "colab": {
          "base_uri": "https://localhost:8080/",
          "height": 542
        },
        "outputId": "aa7587a6-7ac9-4075-c635-15306a5ce8c5"
      },
      "source": [
        "#plot\n",
        "import plotly.graph_objects as go\n",
        "a = 7\n",
        "fig = go.Figure()\n",
        "fig.add_trace(go.Scatter(x=np.linspace(0, Pinteracao[a], Pinteracao[a]), y=Pmse[a],\n",
        "                    mode='lines+markers',\n",
        "                    name='Perceptron'))\n",
        "fig.add_trace(go.Scatter(x=np.linspace(0, Ainteracao[a], Ainteracao[a]), y=Amse[a],\n",
        "                    mode='lines+markers',\n",
        "                    name='Adaline'))\n",
        "\n",
        "fig.update_layout(title='MSE x Interação',\n",
        "                   xaxis_title='Interação',\n",
        "                   yaxis_title='MSE')\n",
        "fig.show()\n",
        "\n"
      ],
      "execution_count": null,
      "outputs": [
        {
          "output_type": "display_data",
          "data": {
            "text/html": [
              "<html>\n",
              "<head><meta charset=\"utf-8\" /></head>\n",
              "<body>\n",
              "    <div>\n",
              "            <script src=\"https://cdnjs.cloudflare.com/ajax/libs/mathjax/2.7.5/MathJax.js?config=TeX-AMS-MML_SVG\"></script><script type=\"text/javascript\">if (window.MathJax) {MathJax.Hub.Config({SVG: {font: \"STIX-Web\"}});}</script>\n",
              "                <script type=\"text/javascript\">window.PlotlyConfig = {MathJaxConfig: 'local'};</script>\n",
              "        <script src=\"https://cdn.plot.ly/plotly-latest.min.js\"></script>    \n",
              "            <div id=\"703998b9-fb48-41de-af10-90f375e699ac\" class=\"plotly-graph-div\" style=\"height:525px; width:100%;\"></div>\n",
              "            <script type=\"text/javascript\">\n",
              "                \n",
              "                    window.PLOTLYENV=window.PLOTLYENV || {};\n",
              "                    \n",
              "                if (document.getElementById(\"703998b9-fb48-41de-af10-90f375e699ac\")) {\n",
              "                    Plotly.newPlot(\n",
              "                        '703998b9-fb48-41de-af10-90f375e699ac',\n",
              "                        [{\"mode\": \"lines+markers\", \"name\": \"Perceptron\", \"type\": \"scatter\", \"x\": [0.0], \"y\": [1, 0.0]}, {\"mode\": \"lines+markers\", \"name\": \"Adaline\", \"type\": \"scatter\", \"x\": [0.0, 1.0053763440860215, 2.010752688172043, 3.0161290322580645, 4.021505376344086, 5.026881720430108, 6.032258064516129, 7.03763440860215, 8.043010752688172, 9.048387096774194, 10.053763440860216, 11.059139784946236, 12.064516129032258, 13.06989247311828, 14.0752688172043, 15.080645161290322, 16.086021505376344, 17.091397849462364, 18.096774193548388, 19.102150537634408, 20.107526881720432, 21.112903225806452, 22.118279569892472, 23.123655913978496, 24.129032258064516, 25.134408602150536, 26.13978494623656, 27.14516129032258, 28.1505376344086, 29.155913978494624, 30.161290322580644, 31.166666666666668, 32.17204301075269, 33.17741935483871, 34.18279569892473, 35.18817204301075, 36.193548387096776, 37.19892473118279, 38.204301075268816, 39.20967741935484, 40.215053763440864, 41.22043010752688, 42.225806451612904, 43.23118279569893, 44.236559139784944, 45.24193548387097, 46.24731182795699, 47.25268817204301, 48.25806451612903, 49.263440860215056, 50.26881720430107, 51.274193548387096, 52.27956989247312, 53.284946236559136, 54.29032258064516, 55.295698924731184, 56.3010752688172, 57.306451612903224, 58.31182795698925, 59.31720430107527, 60.32258064516129, 61.32795698924731, 62.333333333333336, 63.33870967741935, 64.34408602150538, 65.34946236559139, 66.35483870967742, 67.36021505376344, 68.36559139784946, 69.37096774193549, 70.3763440860215, 71.38172043010752, 72.38709677419355, 73.39247311827957, 74.39784946236558, 75.40322580645162, 76.40860215053763, 77.41397849462365, 78.41935483870968, 79.4247311827957, 80.43010752688173, 81.43548387096774, 82.44086021505376, 83.44623655913979, 84.45161290322581, 85.45698924731182, 86.46236559139786, 87.46774193548387, 88.47311827956989, 89.47849462365592, 90.48387096774194, 91.48924731182795, 92.49462365591398, 93.5, 94.50537634408602, 95.51075268817205, 96.51612903225806, 97.52150537634408, 98.52688172043011, 99.53225806451613, 100.53763440860214, 101.54301075268818, 102.54838709677419, 103.55376344086021, 104.55913978494624, 105.56451612903226, 106.56989247311827, 107.5752688172043, 108.58064516129032, 109.58602150537634, 110.59139784946237, 111.59677419354838, 112.6021505376344, 113.60752688172043, 114.61290322580645, 115.61827956989248, 116.6236559139785, 117.62903225806451, 118.63440860215054, 119.63978494623656, 120.64516129032258, 121.65053763440861, 122.65591397849462, 123.66129032258064, 124.66666666666667, 125.67204301075269, 126.6774193548387, 127.68279569892474, 128.68817204301075, 129.69354838709677, 130.69892473118279, 131.70430107526883, 132.70967741935485, 133.71505376344086, 134.72043010752688, 135.7258064516129, 136.7311827956989, 137.73655913978496, 138.74193548387098, 139.747311827957, 140.752688172043, 141.75806451612902, 142.76344086021504, 143.7688172043011, 144.7741935483871, 145.77956989247312, 146.78494623655914, 147.79032258064515, 148.79569892473117, 149.80107526881721, 150.80645161290323, 151.81182795698925, 152.81720430107526, 153.82258064516128, 154.8279569892473, 155.83333333333334, 156.83870967741936, 157.84408602150538, 158.8494623655914, 159.8548387096774, 160.86021505376345, 161.86559139784947, 162.8709677419355, 163.8763440860215, 164.88172043010752, 165.88709677419354, 166.89247311827958, 167.8978494623656, 168.90322580645162, 169.90860215053763, 170.91397849462365, 171.91935483870967, 172.9247311827957, 173.93010752688173, 174.93548387096774, 175.94086021505376, 176.94623655913978, 177.9516129032258, 178.95698924731184, 179.96236559139786, 180.96774193548387, 181.9731182795699, 182.9784946236559, 183.98387096774192, 184.98924731182797, 185.99462365591398, 187.0], \"y\": [1, 0.14680106398056791, 0.1377894482147257, 0.12985332892658055, 0.1228628126525487, 0.11670371717498057, 0.11127567075754727, 0.10649044135026187, 0.10227046793974522, 0.09854756958693103, 0.09526181065364911, 0.09236050332071277, 0.08979733078659245, 0.08753157654556415, 0.08552744691084865, 0.08375347550113557, 0.08218199977387036, 0.08078870088851502, 0.07955219923764882, 0.07845369891082792, 0.07747667517100437, 0.07660659973959326, 0.0758306993158981, 0.07513774331004609, 0.0745178572550646, 0.0739623587913483, 0.07346361349264793, 0.07301490813311273, 0.07261033928534463, 0.07224471539471078, 0.07191347069955863, 0.07161258956422925, 0.07133853996514793, 0.07108821502267754, 0.07085888160538839, 0.07064813515115548, 0.07045385995300602, 0.070274194248628, 0.07010749953242912, 0.06995233357933868, 0.06980742673134234, 0.06967166105205998, 0.0695440520024258, 0.06942373233250154, 0.06930993792134772, 0.06920199532930796, 0.06909931085556861, 0.06900136091891407, 0.06890768360162411, 0.06881787121582256, 0.06873156376860436, 0.06864844321723035, 0.0685682284188281, 0.06849067069059783, 0.06841554990668322, 0.06834267106679888, 0.06827186127955802, 0.068202967110345, 0.06813585224964487, 0.06807039546307393, 0.06800648878904424, 0.06794403595411447, 0.06788295097970283, 0.0678231569570209, 0.06776458496988666, 0.06770717314753545, 0.06765086583170948, 0.06759561284420913, 0.06754136884275844, 0.06748809275450843, 0.06743574727779146, 0.06738429844387589, 0.06733371523146782, 0.06728396922758428, 0.06723503432919273, 0.06718688648068957, 0.0671395034428874, 0.06709286458970223, 0.06704695072919477, 0.06700174394602282, 0.06695722746271864, 0.06691338551751727, 0.06687020325673725, 0.06682766663995657, 0.06678576235643902, 0.06674447775145345, 0.06670380076129188, 0.06666371985593712, 0.06662422398845783, 0.06658530255031948, 0.06654694533189867, 0.06650914248757406, 0.06647188450484273, 0.06643516217697795, 0.06639896657880216, 0.06636328904520139, 0.06632812115205133, 0.06629345469926638, 0.0662592816957171, 0.06622559434579213, 0.06619238503740887, 0.06615964633129902, 0.06612737095141781, 0.0660955517763431, 0.06606418183154694, 0.06603325428243606, 0.06600276242807096, 0.06597269969548344, 0.06594305963452239, 0.06591383591316632, 0.06588502231324816, 0.06585661272654468, 0.06582860115118842, 0.06580098168836561, 0.06577374853926694, 0.06574689600226338, 0.06572041847028126, 0.0656943104283549, 0.06566856645133722, 0.06564318120175112, 0.06561814942776678, 0.06559346596129137, 0.06556912571615969, 0.06554512368641507, 0.06552145494467229, 0.06549811464055341, 0.06547509799919043, 0.06545240031978804, 0.06543001697424106, 0.06540794340580203, 0.06538617512779407, 0.06536470772236598, 0.06534353683928561, 0.06532265819476886, 0.06530206757034161, 0.06528176081173227, 0.06526173382779289, 0.06524198258944694, 0.06522250312866221, 0.06520329153744722, 0.06518434396687008, 0.06516565662609847, 0.06514722578145958, 0.0651290477555194, 0.0651111189261803, 0.06509343572579591, 0.06507599464030334, 0.06505879220837107, 0.06504182502056305, 0.06502508971851746, 0.06500858299414047, 0.06499230158881408, 0.06497624229261773, 0.06496040194356345, 0.06494477742684401, 0.06492936567409395, 0.06491416366266281, 0.06489916841490091, 0.06488437699745658, 0.06486978652058555, 0.06485539413747102, 0.06484119704355586, 0.06482719247588467, 0.0648133777124575, 0.0647997500715935, 0.06478630691130531, 0.0647730456286831, 0.06475996365928924, 0.06474705847656204, 0.06473432759122966, 0.06472176855073322, 0.06470937893865919, 0.06469715637418107, 0.0646850985115097, 0.06467320303935285, 0.06466146768038314, 0.06464989019071457, 0.06463846835938757, 0.06462720000786215, 0.06461608298951921, 0.06460511518916992, 0.06459429452257276, 0.06458361893595849, 0.06457308640556257, 0.0645626949371652, 0.06455244256563848, 0.06454232735450106, 0.06453234739547976]}],\n",
              "                        {\"template\": {\"data\": {\"bar\": [{\"error_x\": {\"color\": \"#2a3f5f\"}, \"error_y\": {\"color\": \"#2a3f5f\"}, \"marker\": {\"line\": {\"color\": \"#E5ECF6\", \"width\": 0.5}}, \"type\": \"bar\"}], \"barpolar\": [{\"marker\": {\"line\": {\"color\": \"#E5ECF6\", \"width\": 0.5}}, \"type\": \"barpolar\"}], \"carpet\": [{\"aaxis\": {\"endlinecolor\": \"#2a3f5f\", \"gridcolor\": \"white\", \"linecolor\": \"white\", \"minorgridcolor\": \"white\", \"startlinecolor\": \"#2a3f5f\"}, \"baxis\": {\"endlinecolor\": \"#2a3f5f\", \"gridcolor\": \"white\", \"linecolor\": \"white\", \"minorgridcolor\": \"white\", \"startlinecolor\": \"#2a3f5f\"}, \"type\": \"carpet\"}], \"choropleth\": [{\"colorbar\": {\"outlinewidth\": 0, \"ticks\": \"\"}, \"type\": \"choropleth\"}], \"contour\": [{\"colorbar\": {\"outlinewidth\": 0, \"ticks\": \"\"}, \"colorscale\": [[0.0, \"#0d0887\"], [0.1111111111111111, \"#46039f\"], [0.2222222222222222, \"#7201a8\"], [0.3333333333333333, \"#9c179e\"], [0.4444444444444444, \"#bd3786\"], [0.5555555555555556, \"#d8576b\"], [0.6666666666666666, \"#ed7953\"], [0.7777777777777778, \"#fb9f3a\"], [0.8888888888888888, \"#fdca26\"], [1.0, \"#f0f921\"]], \"type\": \"contour\"}], \"contourcarpet\": [{\"colorbar\": {\"outlinewidth\": 0, \"ticks\": \"\"}, \"type\": \"contourcarpet\"}], \"heatmap\": [{\"colorbar\": {\"outlinewidth\": 0, \"ticks\": \"\"}, \"colorscale\": [[0.0, \"#0d0887\"], [0.1111111111111111, \"#46039f\"], [0.2222222222222222, \"#7201a8\"], [0.3333333333333333, \"#9c179e\"], [0.4444444444444444, \"#bd3786\"], [0.5555555555555556, \"#d8576b\"], [0.6666666666666666, \"#ed7953\"], [0.7777777777777778, \"#fb9f3a\"], [0.8888888888888888, \"#fdca26\"], [1.0, \"#f0f921\"]], \"type\": \"heatmap\"}], \"heatmapgl\": [{\"colorbar\": {\"outlinewidth\": 0, \"ticks\": \"\"}, \"colorscale\": [[0.0, \"#0d0887\"], [0.1111111111111111, \"#46039f\"], [0.2222222222222222, \"#7201a8\"], [0.3333333333333333, \"#9c179e\"], [0.4444444444444444, \"#bd3786\"], [0.5555555555555556, \"#d8576b\"], [0.6666666666666666, \"#ed7953\"], [0.7777777777777778, \"#fb9f3a\"], [0.8888888888888888, \"#fdca26\"], [1.0, \"#f0f921\"]], \"type\": \"heatmapgl\"}], \"histogram\": [{\"marker\": {\"colorbar\": {\"outlinewidth\": 0, \"ticks\": \"\"}}, \"type\": \"histogram\"}], \"histogram2d\": [{\"colorbar\": {\"outlinewidth\": 0, \"ticks\": \"\"}, \"colorscale\": [[0.0, \"#0d0887\"], [0.1111111111111111, \"#46039f\"], [0.2222222222222222, \"#7201a8\"], [0.3333333333333333, \"#9c179e\"], [0.4444444444444444, \"#bd3786\"], [0.5555555555555556, \"#d8576b\"], [0.6666666666666666, \"#ed7953\"], [0.7777777777777778, \"#fb9f3a\"], [0.8888888888888888, \"#fdca26\"], [1.0, \"#f0f921\"]], \"type\": \"histogram2d\"}], \"histogram2dcontour\": [{\"colorbar\": {\"outlinewidth\": 0, \"ticks\": \"\"}, \"colorscale\": [[0.0, \"#0d0887\"], [0.1111111111111111, \"#46039f\"], [0.2222222222222222, \"#7201a8\"], [0.3333333333333333, \"#9c179e\"], [0.4444444444444444, \"#bd3786\"], [0.5555555555555556, \"#d8576b\"], [0.6666666666666666, \"#ed7953\"], [0.7777777777777778, \"#fb9f3a\"], [0.8888888888888888, \"#fdca26\"], [1.0, \"#f0f921\"]], \"type\": \"histogram2dcontour\"}], \"mesh3d\": [{\"colorbar\": {\"outlinewidth\": 0, \"ticks\": \"\"}, \"type\": \"mesh3d\"}], \"parcoords\": [{\"line\": {\"colorbar\": {\"outlinewidth\": 0, \"ticks\": \"\"}}, \"type\": \"parcoords\"}], \"pie\": [{\"automargin\": true, \"type\": \"pie\"}], \"scatter\": [{\"marker\": {\"colorbar\": {\"outlinewidth\": 0, \"ticks\": \"\"}}, \"type\": \"scatter\"}], \"scatter3d\": [{\"line\": {\"colorbar\": {\"outlinewidth\": 0, \"ticks\": \"\"}}, \"marker\": {\"colorbar\": {\"outlinewidth\": 0, \"ticks\": \"\"}}, \"type\": \"scatter3d\"}], \"scattercarpet\": [{\"marker\": {\"colorbar\": {\"outlinewidth\": 0, \"ticks\": \"\"}}, \"type\": \"scattercarpet\"}], \"scattergeo\": [{\"marker\": {\"colorbar\": {\"outlinewidth\": 0, \"ticks\": \"\"}}, \"type\": \"scattergeo\"}], \"scattergl\": [{\"marker\": {\"colorbar\": {\"outlinewidth\": 0, \"ticks\": \"\"}}, \"type\": \"scattergl\"}], \"scattermapbox\": [{\"marker\": {\"colorbar\": {\"outlinewidth\": 0, \"ticks\": \"\"}}, \"type\": \"scattermapbox\"}], \"scatterpolar\": [{\"marker\": {\"colorbar\": {\"outlinewidth\": 0, \"ticks\": \"\"}}, \"type\": \"scatterpolar\"}], \"scatterpolargl\": [{\"marker\": {\"colorbar\": {\"outlinewidth\": 0, \"ticks\": \"\"}}, \"type\": \"scatterpolargl\"}], \"scatterternary\": [{\"marker\": {\"colorbar\": {\"outlinewidth\": 0, \"ticks\": \"\"}}, \"type\": \"scatterternary\"}], \"surface\": [{\"colorbar\": {\"outlinewidth\": 0, \"ticks\": \"\"}, \"colorscale\": [[0.0, \"#0d0887\"], [0.1111111111111111, \"#46039f\"], [0.2222222222222222, \"#7201a8\"], [0.3333333333333333, \"#9c179e\"], [0.4444444444444444, \"#bd3786\"], [0.5555555555555556, \"#d8576b\"], [0.6666666666666666, \"#ed7953\"], [0.7777777777777778, \"#fb9f3a\"], [0.8888888888888888, \"#fdca26\"], [1.0, \"#f0f921\"]], \"type\": \"surface\"}], \"table\": [{\"cells\": {\"fill\": {\"color\": \"#EBF0F8\"}, \"line\": {\"color\": \"white\"}}, \"header\": {\"fill\": {\"color\": \"#C8D4E3\"}, \"line\": {\"color\": \"white\"}}, \"type\": \"table\"}]}, \"layout\": {\"annotationdefaults\": {\"arrowcolor\": \"#2a3f5f\", \"arrowhead\": 0, \"arrowwidth\": 1}, \"coloraxis\": {\"colorbar\": {\"outlinewidth\": 0, \"ticks\": \"\"}}, \"colorscale\": {\"diverging\": [[0, \"#8e0152\"], [0.1, \"#c51b7d\"], [0.2, \"#de77ae\"], [0.3, \"#f1b6da\"], [0.4, \"#fde0ef\"], [0.5, \"#f7f7f7\"], [0.6, \"#e6f5d0\"], [0.7, \"#b8e186\"], [0.8, \"#7fbc41\"], [0.9, \"#4d9221\"], [1, \"#276419\"]], \"sequential\": [[0.0, \"#0d0887\"], [0.1111111111111111, \"#46039f\"], [0.2222222222222222, \"#7201a8\"], [0.3333333333333333, \"#9c179e\"], [0.4444444444444444, \"#bd3786\"], [0.5555555555555556, \"#d8576b\"], [0.6666666666666666, \"#ed7953\"], [0.7777777777777778, \"#fb9f3a\"], [0.8888888888888888, \"#fdca26\"], [1.0, \"#f0f921\"]], \"sequentialminus\": [[0.0, \"#0d0887\"], [0.1111111111111111, \"#46039f\"], [0.2222222222222222, \"#7201a8\"], [0.3333333333333333, \"#9c179e\"], [0.4444444444444444, \"#bd3786\"], [0.5555555555555556, \"#d8576b\"], [0.6666666666666666, \"#ed7953\"], [0.7777777777777778, \"#fb9f3a\"], [0.8888888888888888, \"#fdca26\"], [1.0, \"#f0f921\"]]}, \"colorway\": [\"#636efa\", \"#EF553B\", \"#00cc96\", \"#ab63fa\", \"#FFA15A\", \"#19d3f3\", \"#FF6692\", \"#B6E880\", \"#FF97FF\", \"#FECB52\"], \"font\": {\"color\": \"#2a3f5f\"}, \"geo\": {\"bgcolor\": \"white\", \"lakecolor\": \"white\", \"landcolor\": \"#E5ECF6\", \"showlakes\": true, \"showland\": true, \"subunitcolor\": \"white\"}, \"hoverlabel\": {\"align\": \"left\"}, \"hovermode\": \"closest\", \"mapbox\": {\"style\": \"light\"}, \"paper_bgcolor\": \"white\", \"plot_bgcolor\": \"#E5ECF6\", \"polar\": {\"angularaxis\": {\"gridcolor\": \"white\", \"linecolor\": \"white\", \"ticks\": \"\"}, \"bgcolor\": \"#E5ECF6\", \"radialaxis\": {\"gridcolor\": \"white\", \"linecolor\": \"white\", \"ticks\": \"\"}}, \"scene\": {\"xaxis\": {\"backgroundcolor\": \"#E5ECF6\", \"gridcolor\": \"white\", \"gridwidth\": 2, \"linecolor\": \"white\", \"showbackground\": true, \"ticks\": \"\", \"zerolinecolor\": \"white\"}, \"yaxis\": {\"backgroundcolor\": \"#E5ECF6\", \"gridcolor\": \"white\", \"gridwidth\": 2, \"linecolor\": \"white\", \"showbackground\": true, \"ticks\": \"\", \"zerolinecolor\": \"white\"}, \"zaxis\": {\"backgroundcolor\": \"#E5ECF6\", \"gridcolor\": \"white\", \"gridwidth\": 2, \"linecolor\": \"white\", \"showbackground\": true, \"ticks\": \"\", \"zerolinecolor\": \"white\"}}, \"shapedefaults\": {\"line\": {\"color\": \"#2a3f5f\"}}, \"ternary\": {\"aaxis\": {\"gridcolor\": \"white\", \"linecolor\": \"white\", \"ticks\": \"\"}, \"baxis\": {\"gridcolor\": \"white\", \"linecolor\": \"white\", \"ticks\": \"\"}, \"bgcolor\": \"#E5ECF6\", \"caxis\": {\"gridcolor\": \"white\", \"linecolor\": \"white\", \"ticks\": \"\"}}, \"title\": {\"x\": 0.05}, \"xaxis\": {\"automargin\": true, \"gridcolor\": \"white\", \"linecolor\": \"white\", \"ticks\": \"\", \"title\": {\"standoff\": 15}, \"zerolinecolor\": \"white\", \"zerolinewidth\": 2}, \"yaxis\": {\"automargin\": true, \"gridcolor\": \"white\", \"linecolor\": \"white\", \"ticks\": \"\", \"title\": {\"standoff\": 15}, \"zerolinecolor\": \"white\", \"zerolinewidth\": 2}}}, \"title\": {\"text\": \"MSE x Intera\\u00e7\\u00e3o\"}, \"xaxis\": {\"title\": {\"text\": \"Intera\\u00e7\\u00e3o\"}}, \"yaxis\": {\"title\": {\"text\": \"MSE\"}}},\n",
              "                        {\"responsive\": true}\n",
              "                    ).then(function(){\n",
              "                            \n",
              "var gd = document.getElementById('703998b9-fb48-41de-af10-90f375e699ac');\n",
              "var x = new MutationObserver(function (mutations, observer) {{\n",
              "        var display = window.getComputedStyle(gd).display;\n",
              "        if (!display || display === 'none') {{\n",
              "            console.log([gd, 'removed!']);\n",
              "            Plotly.purge(gd);\n",
              "            observer.disconnect();\n",
              "        }}\n",
              "}});\n",
              "\n",
              "// Listen for the removal of the full notebook cells\n",
              "var notebookContainer = gd.closest('#notebook-container');\n",
              "if (notebookContainer) {{\n",
              "    x.observe(notebookContainer, {childList: true});\n",
              "}}\n",
              "\n",
              "// Listen for the clearing of the current output cell\n",
              "var outputEl = gd.closest('.output');\n",
              "if (outputEl) {{\n",
              "    x.observe(outputEl, {childList: true});\n",
              "}}\n",
              "\n",
              "                        })\n",
              "                };\n",
              "                \n",
              "            </script>\n",
              "        </div>\n",
              "</body>\n",
              "</html>"
            ]
          },
          "metadata": {
            "tags": []
          }
        }
      ]
    },
    {
      "cell_type": "code",
      "metadata": {
        "id": "aTtt_kP7cSsw",
        "colab": {
          "base_uri": "https://localhost:8080/",
          "height": 442
        },
        "outputId": "0ab9fe85-fcff-4988-a18a-f3bd156b349c"
      },
      "source": [
        "#planilha\n",
        "import pandas as pd\n",
        "df = pd.read_csv('/EstadosUnidos_diferenciaçã.csv', header=None)\n",
        "\n",
        "media = df[3].mean()\n",
        "print(media)\n",
        "df.update(df[3].replace(to_replace=0, value=media))\n",
        "df.to_csv(index=False)"
      ],
      "execution_count": null,
      "outputs": [
        {
          "output_type": "error",
          "ename": "FileNotFoundError",
          "evalue": "ignored",
          "traceback": [
            "\u001b[0;31m---------------------------------------------------------------------------\u001b[0m",
            "\u001b[0;31mFileNotFoundError\u001b[0m                         Traceback (most recent call last)",
            "\u001b[0;32m<ipython-input-8-32f6ba87fb39>\u001b[0m in \u001b[0;36m<module>\u001b[0;34m()\u001b[0m\n\u001b[1;32m      1\u001b[0m \u001b[0;31m#planilha\u001b[0m\u001b[0;34m\u001b[0m\u001b[0;34m\u001b[0m\u001b[0;34m\u001b[0m\u001b[0m\n\u001b[1;32m      2\u001b[0m \u001b[0;32mimport\u001b[0m \u001b[0mpandas\u001b[0m \u001b[0;32mas\u001b[0m \u001b[0mpd\u001b[0m\u001b[0;34m\u001b[0m\u001b[0;34m\u001b[0m\u001b[0m\n\u001b[0;32m----> 3\u001b[0;31m \u001b[0mdf\u001b[0m \u001b[0;34m=\u001b[0m \u001b[0mpd\u001b[0m\u001b[0;34m.\u001b[0m\u001b[0mread_csv\u001b[0m\u001b[0;34m(\u001b[0m\u001b[0;34m'/EstadosUnidos_diferenciaçã.csv'\u001b[0m\u001b[0;34m,\u001b[0m \u001b[0mheader\u001b[0m\u001b[0;34m=\u001b[0m\u001b[0;32mNone\u001b[0m\u001b[0;34m)\u001b[0m\u001b[0;34m\u001b[0m\u001b[0;34m\u001b[0m\u001b[0m\n\u001b[0m\u001b[1;32m      4\u001b[0m \u001b[0;34m\u001b[0m\u001b[0m\n\u001b[1;32m      5\u001b[0m \u001b[0mmedia\u001b[0m \u001b[0;34m=\u001b[0m \u001b[0mdf\u001b[0m\u001b[0;34m[\u001b[0m\u001b[0;36m3\u001b[0m\u001b[0;34m]\u001b[0m\u001b[0;34m.\u001b[0m\u001b[0mmean\u001b[0m\u001b[0;34m(\u001b[0m\u001b[0;34m)\u001b[0m\u001b[0;34m\u001b[0m\u001b[0;34m\u001b[0m\u001b[0m\n",
            "\u001b[0;32m/usr/local/lib/python3.6/dist-packages/pandas/io/parsers.py\u001b[0m in \u001b[0;36mread_csv\u001b[0;34m(filepath_or_buffer, sep, delimiter, header, names, index_col, usecols, squeeze, prefix, mangle_dupe_cols, dtype, engine, converters, true_values, false_values, skipinitialspace, skiprows, skipfooter, nrows, na_values, keep_default_na, na_filter, verbose, skip_blank_lines, parse_dates, infer_datetime_format, keep_date_col, date_parser, dayfirst, cache_dates, iterator, chunksize, compression, thousands, decimal, lineterminator, quotechar, quoting, doublequote, escapechar, comment, encoding, dialect, error_bad_lines, warn_bad_lines, delim_whitespace, low_memory, memory_map, float_precision)\u001b[0m\n\u001b[1;32m    686\u001b[0m     )\n\u001b[1;32m    687\u001b[0m \u001b[0;34m\u001b[0m\u001b[0m\n\u001b[0;32m--> 688\u001b[0;31m     \u001b[0;32mreturn\u001b[0m \u001b[0m_read\u001b[0m\u001b[0;34m(\u001b[0m\u001b[0mfilepath_or_buffer\u001b[0m\u001b[0;34m,\u001b[0m \u001b[0mkwds\u001b[0m\u001b[0;34m)\u001b[0m\u001b[0;34m\u001b[0m\u001b[0;34m\u001b[0m\u001b[0m\n\u001b[0m\u001b[1;32m    689\u001b[0m \u001b[0;34m\u001b[0m\u001b[0m\n\u001b[1;32m    690\u001b[0m \u001b[0;34m\u001b[0m\u001b[0m\n",
            "\u001b[0;32m/usr/local/lib/python3.6/dist-packages/pandas/io/parsers.py\u001b[0m in \u001b[0;36m_read\u001b[0;34m(filepath_or_buffer, kwds)\u001b[0m\n\u001b[1;32m    452\u001b[0m \u001b[0;34m\u001b[0m\u001b[0m\n\u001b[1;32m    453\u001b[0m     \u001b[0;31m# Create the parser.\u001b[0m\u001b[0;34m\u001b[0m\u001b[0;34m\u001b[0m\u001b[0;34m\u001b[0m\u001b[0m\n\u001b[0;32m--> 454\u001b[0;31m     \u001b[0mparser\u001b[0m \u001b[0;34m=\u001b[0m \u001b[0mTextFileReader\u001b[0m\u001b[0;34m(\u001b[0m\u001b[0mfp_or_buf\u001b[0m\u001b[0;34m,\u001b[0m \u001b[0;34m**\u001b[0m\u001b[0mkwds\u001b[0m\u001b[0;34m)\u001b[0m\u001b[0;34m\u001b[0m\u001b[0;34m\u001b[0m\u001b[0m\n\u001b[0m\u001b[1;32m    455\u001b[0m \u001b[0;34m\u001b[0m\u001b[0m\n\u001b[1;32m    456\u001b[0m     \u001b[0;32mif\u001b[0m \u001b[0mchunksize\u001b[0m \u001b[0;32mor\u001b[0m \u001b[0miterator\u001b[0m\u001b[0;34m:\u001b[0m\u001b[0;34m\u001b[0m\u001b[0;34m\u001b[0m\u001b[0m\n",
            "\u001b[0;32m/usr/local/lib/python3.6/dist-packages/pandas/io/parsers.py\u001b[0m in \u001b[0;36m__init__\u001b[0;34m(self, f, engine, **kwds)\u001b[0m\n\u001b[1;32m    946\u001b[0m             \u001b[0mself\u001b[0m\u001b[0;34m.\u001b[0m\u001b[0moptions\u001b[0m\u001b[0;34m[\u001b[0m\u001b[0;34m\"has_index_names\"\u001b[0m\u001b[0;34m]\u001b[0m \u001b[0;34m=\u001b[0m \u001b[0mkwds\u001b[0m\u001b[0;34m[\u001b[0m\u001b[0;34m\"has_index_names\"\u001b[0m\u001b[0;34m]\u001b[0m\u001b[0;34m\u001b[0m\u001b[0;34m\u001b[0m\u001b[0m\n\u001b[1;32m    947\u001b[0m \u001b[0;34m\u001b[0m\u001b[0m\n\u001b[0;32m--> 948\u001b[0;31m         \u001b[0mself\u001b[0m\u001b[0;34m.\u001b[0m\u001b[0m_make_engine\u001b[0m\u001b[0;34m(\u001b[0m\u001b[0mself\u001b[0m\u001b[0;34m.\u001b[0m\u001b[0mengine\u001b[0m\u001b[0;34m)\u001b[0m\u001b[0;34m\u001b[0m\u001b[0;34m\u001b[0m\u001b[0m\n\u001b[0m\u001b[1;32m    949\u001b[0m \u001b[0;34m\u001b[0m\u001b[0m\n\u001b[1;32m    950\u001b[0m     \u001b[0;32mdef\u001b[0m \u001b[0mclose\u001b[0m\u001b[0;34m(\u001b[0m\u001b[0mself\u001b[0m\u001b[0;34m)\u001b[0m\u001b[0;34m:\u001b[0m\u001b[0;34m\u001b[0m\u001b[0;34m\u001b[0m\u001b[0m\n",
            "\u001b[0;32m/usr/local/lib/python3.6/dist-packages/pandas/io/parsers.py\u001b[0m in \u001b[0;36m_make_engine\u001b[0;34m(self, engine)\u001b[0m\n\u001b[1;32m   1178\u001b[0m     \u001b[0;32mdef\u001b[0m \u001b[0m_make_engine\u001b[0m\u001b[0;34m(\u001b[0m\u001b[0mself\u001b[0m\u001b[0;34m,\u001b[0m \u001b[0mengine\u001b[0m\u001b[0;34m=\u001b[0m\u001b[0;34m\"c\"\u001b[0m\u001b[0;34m)\u001b[0m\u001b[0;34m:\u001b[0m\u001b[0;34m\u001b[0m\u001b[0;34m\u001b[0m\u001b[0m\n\u001b[1;32m   1179\u001b[0m         \u001b[0;32mif\u001b[0m \u001b[0mengine\u001b[0m \u001b[0;34m==\u001b[0m \u001b[0;34m\"c\"\u001b[0m\u001b[0;34m:\u001b[0m\u001b[0;34m\u001b[0m\u001b[0;34m\u001b[0m\u001b[0m\n\u001b[0;32m-> 1180\u001b[0;31m             \u001b[0mself\u001b[0m\u001b[0;34m.\u001b[0m\u001b[0m_engine\u001b[0m \u001b[0;34m=\u001b[0m \u001b[0mCParserWrapper\u001b[0m\u001b[0;34m(\u001b[0m\u001b[0mself\u001b[0m\u001b[0;34m.\u001b[0m\u001b[0mf\u001b[0m\u001b[0;34m,\u001b[0m \u001b[0;34m**\u001b[0m\u001b[0mself\u001b[0m\u001b[0;34m.\u001b[0m\u001b[0moptions\u001b[0m\u001b[0;34m)\u001b[0m\u001b[0;34m\u001b[0m\u001b[0;34m\u001b[0m\u001b[0m\n\u001b[0m\u001b[1;32m   1181\u001b[0m         \u001b[0;32melse\u001b[0m\u001b[0;34m:\u001b[0m\u001b[0;34m\u001b[0m\u001b[0;34m\u001b[0m\u001b[0m\n\u001b[1;32m   1182\u001b[0m             \u001b[0;32mif\u001b[0m \u001b[0mengine\u001b[0m \u001b[0;34m==\u001b[0m \u001b[0;34m\"python\"\u001b[0m\u001b[0;34m:\u001b[0m\u001b[0;34m\u001b[0m\u001b[0;34m\u001b[0m\u001b[0m\n",
            "\u001b[0;32m/usr/local/lib/python3.6/dist-packages/pandas/io/parsers.py\u001b[0m in \u001b[0;36m__init__\u001b[0;34m(self, src, **kwds)\u001b[0m\n\u001b[1;32m   2008\u001b[0m         \u001b[0mkwds\u001b[0m\u001b[0;34m[\u001b[0m\u001b[0;34m\"usecols\"\u001b[0m\u001b[0;34m]\u001b[0m \u001b[0;34m=\u001b[0m \u001b[0mself\u001b[0m\u001b[0;34m.\u001b[0m\u001b[0musecols\u001b[0m\u001b[0;34m\u001b[0m\u001b[0;34m\u001b[0m\u001b[0m\n\u001b[1;32m   2009\u001b[0m \u001b[0;34m\u001b[0m\u001b[0m\n\u001b[0;32m-> 2010\u001b[0;31m         \u001b[0mself\u001b[0m\u001b[0;34m.\u001b[0m\u001b[0m_reader\u001b[0m \u001b[0;34m=\u001b[0m \u001b[0mparsers\u001b[0m\u001b[0;34m.\u001b[0m\u001b[0mTextReader\u001b[0m\u001b[0;34m(\u001b[0m\u001b[0msrc\u001b[0m\u001b[0;34m,\u001b[0m \u001b[0;34m**\u001b[0m\u001b[0mkwds\u001b[0m\u001b[0;34m)\u001b[0m\u001b[0;34m\u001b[0m\u001b[0;34m\u001b[0m\u001b[0m\n\u001b[0m\u001b[1;32m   2011\u001b[0m         \u001b[0mself\u001b[0m\u001b[0;34m.\u001b[0m\u001b[0munnamed_cols\u001b[0m \u001b[0;34m=\u001b[0m \u001b[0mself\u001b[0m\u001b[0;34m.\u001b[0m\u001b[0m_reader\u001b[0m\u001b[0;34m.\u001b[0m\u001b[0munnamed_cols\u001b[0m\u001b[0;34m\u001b[0m\u001b[0;34m\u001b[0m\u001b[0m\n\u001b[1;32m   2012\u001b[0m \u001b[0;34m\u001b[0m\u001b[0m\n",
            "\u001b[0;32mpandas/_libs/parsers.pyx\u001b[0m in \u001b[0;36mpandas._libs.parsers.TextReader.__cinit__\u001b[0;34m()\u001b[0m\n",
            "\u001b[0;32mpandas/_libs/parsers.pyx\u001b[0m in \u001b[0;36mpandas._libs.parsers.TextReader._setup_parser_source\u001b[0;34m()\u001b[0m\n",
            "\u001b[0;31mFileNotFoundError\u001b[0m: [Errno 2] No such file or directory: '/EstadosUnidos_diferenciaçã.csv'"
          ]
        }
      ]
    },
    {
      "cell_type": "code",
      "metadata": {
        "id": "_brs1XgBNaF3"
      },
      "source": [
        "df.head(15)"
      ],
      "execution_count": null,
      "outputs": []
    },
    {
      "cell_type": "code",
      "metadata": {
        "id": "yswAbE6wX5XS"
      },
      "source": [
        "#Perceptron \n",
        "Ppmse = []\n",
        "Ppinteracao = []\n",
        "ppredict = []\n",
        "for i in range(10):\n",
        "  print('\\nTeste: '+str(i))\n",
        "  pp = Perceptron(3, interactions = 500)\n",
        "  pp.train(x_train, y_train)\n",
        "  Ppinteracao.append(pp.interaction)\n",
        "  Ppmse.append(pp.MSE)\n",
        "  predict.append(pp.test(x_test, 1))"
      ],
      "execution_count": null,
      "outputs": []
    },
    {
      "cell_type": "code",
      "metadata": {
        "id": "CxymaL-2X4Qv"
      },
      "source": [
        "#Adaline\n",
        "aAmse = []                                       #salvando erro\n",
        "aAinteracao = []                                 #salvando interacao de cada rede\n",
        "apredict = []\n",
        "for i in range(10):                             #to testando 10x\n",
        "  \n",
        "  print('\\nTeste: '+str(i))\n",
        "  aa = Adaline(features = 3, interactions = 500, precision = 1e-3) #criando uma adaline,  com caracteristicas, e qtdd max de interações ou epocas\n",
        "  aa.train(x_train, y_train)                             #treina o modelo\n",
        "  aAinteracao.append(aa.interaction)              #salvando a interação de cada teste           \n",
        "  aAmse.append(aa.MSE)                 \n",
        "  apredict.append(aa.test(x_test, 1))                             #realizando teste"
      ],
      "execution_count": null,
      "outputs": []
    },
    {
      "cell_type": "code",
      "metadata": {
        "id": "cgABeAgsdmcl"
      },
      "source": [
        "#plot\n",
        "import plotly.graph_objects as go\n",
        "a = 1\n",
        "fig = go.Figure()\n",
        "fig.add_trace(go.Scatter(x=np.linspace(0, Ppinteracao[a], Ppinteracao[a]), y=Ppmse[a],\n",
        "                    mode='lines+markers',\n",
        "                    name='Perceptron'))\n",
        "fig.add_trace(go.Scatter(x=np.linspace(0, aAinteracao[a], aAinteracao[a]), y=aAmse[a],\n",
        "                    mode='lines+markers',\n",
        "                    name='Adaline'))\n",
        "\n",
        "fig.update_layout(title='MSE x Interação',\n",
        "                   xaxis_title='Interação',\n",
        "                   yaxis_title='MSE')\n",
        "fig.show()\n"
      ],
      "execution_count": null,
      "outputs": []
    },
    {
      "cell_type": "code",
      "metadata": {
        "id": "VJ_A1mV_mESD"
      },
      "source": [
        "\n",
        "network = Elman(4,20,1)\n",
        "e = []\n",
        "u = [0,]*len(x_train)\n",
        "\n",
        "for i in range(200):\n",
        "    n = np.random.randint(len(x_train))\n",
        "    network.forward(x_train[n])\n",
        "    e.append(network.backward(y_train[n], momentum=0.1))\n",
        "for i in range(0,len(x_train),1):\n",
        "    o = network.forward(x_train[i])\n",
        "    \n",
        "    #print('Teste %d: %s -> %s' % (i, x_train[i], y_train[i]))\n",
        "    #print('               Network output: %s' % o +'\\n')\n",
        "   "
      ],
      "execution_count": null,
      "outputs": []
    },
    {
      "cell_type": "code",
      "metadata": {
        "id": "pAcqzlV7uZZl"
      },
      "source": [
        "#plot\n",
        "import plotly.graph_objects as go\n",
        "fig = go.Figure()\n",
        "fig.add_trace(go.Scatter(x=np.linspace(0,200,200), y=e,\n",
        "                    mode='lines+markers',\n",
        "                    name='Iris_Elman'))\n",
        "fig.update_layout(title='Iris_Elman - 200 loops',\n",
        "                   xaxis_title='Interação',\n",
        "                   yaxis_title='MSE')\n",
        "fig.show()"
      ],
      "execution_count": null,
      "outputs": []
    },
    {
      "cell_type": "code",
      "metadata": {
        "id": "QYoboLHK5mDX"
      },
      "source": [
        "from sklearn import datasets\n",
        "iris = datasets.load_iris()\n",
        "X = iris.data\n",
        "y = iris.target\n",
        "\n",
        "n = np.random.randint(len(X))\n",
        "\n",
        "x_train, Max, Min = norm(X)\n",
        "y_train, Max, Min = norm(y)"
      ],
      "execution_count": null,
      "outputs": []
    },
    {
      "cell_type": "code",
      "metadata": {
        "id": "a4Cm-cK_zJnL"
      },
      "source": [
        "#plot\n",
        "import plotly.graph_objects as go\n",
        "fig = go.Figure()\n",
        "fig.add_trace(go.Scatter(x=np.linspace(-5,5), y=tanh(x),\n",
        "                    mode='lines+markers',\n",
        "                    name='tanh'))\n",
        "fig.add_trace(go.Scatter(x=np.linspace(-5,5), y=dtanh(x),\n",
        "                    mode='lines+markers',\n",
        "                    name='dtanh'))\n",
        "fig.update_layout(title='MSE x Interação',\n",
        "                   xaxis_title='Interação',\n",
        "                   yaxis_title='MSE')\n",
        "fig.show()"
      ],
      "execution_count": null,
      "outputs": []
    }
  ]
}